{
  "nbformat": 4,
  "nbformat_minor": 0,
  "metadata": {
    "colab": {
      "name": "Untitled8.ipynb",
      "provenance": [],
      "collapsed_sections": [],
      "include_colab_link": true
    },
    "kernelspec": {
      "name": "python3",
      "display_name": "Python 3"
    }
  },
  "cells": [
    {
      "cell_type": "markdown",
      "metadata": {
        "id": "view-in-github",
        "colab_type": "text"
      },
      "source": [
        "<a href=\"https://colab.research.google.com/github/Bouguedra-Adem/-Data-Science-Decison-Tree-Regression/blob/master/AI-HACK-TUNISIA.ipynb\" target=\"_parent\"><img src=\"https://colab.research.google.com/assets/colab-badge.svg\" alt=\"Open In Colab\"/></a>"
      ]
    },
    {
      "cell_type": "code",
      "metadata": {
        "id": "dLLwr_IYqhXk",
        "colab_type": "code",
        "colab": {}
      },
      "source": [
        "import pandas as pd\n",
        "\n",
        "import numpy as np\n",
        "import matplotlib as plt"
      ],
      "execution_count": 0,
      "outputs": []
    },
    {
      "cell_type": "code",
      "metadata": {
        "id": "Np5e0YBnq44j",
        "colab_type": "code",
        "colab": {}
      },
      "source": [
        "df=pd.read_csv('Train.csv')"
      ],
      "execution_count": 0,
      "outputs": []
    },
    {
      "cell_type": "code",
      "metadata": {
        "id": "RNRM8wT1q9CV",
        "colab_type": "code",
        "colab": {}
      },
      "source": [
        "X=df\n",
        "y=X.iloc[:,-1].values\n",
        "X_id=X.iloc[:,0:1].values\n",
        "X=X.iloc[:,1:-1]"
      ],
      "execution_count": 0,
      "outputs": []
    },
    {
      "cell_type": "markdown",
      "metadata": {
        "id": "qXzOgjGPycZN",
        "colab_type": "text"
      },
      "source": [
        ""
      ]
    },
    {
      "cell_type": "code",
      "metadata": {
        "id": "tujmis28q9yo",
        "colab_type": "code",
        "colab": {}
      },
      "source": [
        "df_test=pd.read_csv('Test.csv')\n",
        "Xf=df_test\n",
        "X_idTest=Xf.iloc[:,0:1].values\n",
        "Xf=Xf.iloc[:,1:]"
      ],
      "execution_count": 0,
      "outputs": []
    },
    {
      "cell_type": "code",
      "metadata": {
        "id": "QY_ZIkC_rABk",
        "colab_type": "code",
        "colab": {}
      },
      "source": [
        "train=X\n",
        "test=Xf"
      ],
      "execution_count": 0,
      "outputs": []
    },
    {
      "cell_type": "code",
      "metadata": {
        "id": "z2oyMSxbrDcl",
        "colab_type": "code",
        "colab": {}
      },
      "source": [
        "combiend=pd.concat([train,test])"
      ],
      "execution_count": 0,
      "outputs": []
    },
    {
      "cell_type": "code",
      "metadata": {
        "id": "diuil7LfrFrD",
        "colab_type": "code",
        "colab": {}
      },
      "source": [
        "combiend['STA'] = pd.to_datetime(combiend['STA'], errors='coerce', format='%Y-%m-%d %H.%M.%S')\n",
        "combiend['STD'] = pd.to_datetime(combiend['STD'], errors='coerce', format='%Y-%m-%d %H:%M:%S')\n",
        "combiend['MONTHSTA'] = combiend['STA'].dt.month\n",
        "combiend['DAYSTA'] = combiend['STA'].dt.day\n",
        "combiend['HOURSTA'] = combiend['STA'].dt.hour\n",
        "combiend['MINUTESTA'] = combiend['STA'].dt.minute\n",
        "#**********************************************************#\n",
        "combiend['MONTHSTD'] = combiend['STD'].dt.month\n",
        "combiend['DAYSTD'] = combiend['STD'].dt.day\n",
        "combiend['HOURSTD'] = combiend['STD'].dt.hour\n",
        "combiend['MINUTESTD'] = combiend['STD'].dt.minute"
      ],
      "execution_count": 0,
      "outputs": []
    },
    {
      "cell_type": "code",
      "metadata": {
        "id": "ERvYrYi9rId6",
        "colab_type": "code",
        "colab": {}
      },
      "source": [
        "combiend= combiend.drop(columns=['STATUS','DATOP','STD','STA','FLTID'])"
      ],
      "execution_count": 0,
      "outputs": []
    },
    {
      "cell_type": "code",
      "metadata": {
        "id": "sMLUVe_lrK9X",
        "colab_type": "code",
        "colab": {}
      },
      "source": [
        "combiend=combiend.values"
      ],
      "execution_count": 0,
      "outputs": []
    },
    {
      "cell_type": "code",
      "metadata": {
        "id": "gnvLUR_GrNDB",
        "colab_type": "code",
        "outputId": "5136d968-068f-4500-dfb0-66a50da20bf7",
        "colab": {
          "base_uri": "https://localhost:8080/",
          "height": 343
        }
      },
      "source": [
        "from sklearn.preprocessing import LabelEncoder,OneHotEncoder\n",
        "lablencoder=LabelEncoder()\n",
        "combiend[:, 0]=lablencoder.fit_transform(combiend[:, 0])\n",
        "combiend[:, 1]=lablencoder.fit_transform(combiend[:, 1])\n",
        "combiend[:, 2]=lablencoder.fit_transform(combiend[:, 2])\n",
        "combiend=OneHotEncoder(categorical_features=[0]).fit_transform(combiend).toarray()\n",
        "combiend=OneHotEncoder(categorical_features=[1]).fit_transform(combiend).toarray()\n",
        "combiend=OneHotEncoder(categorical_features=[2]).fit_transform(combiend).toarray()"
      ],
      "execution_count": 0,
      "outputs": [
        {
          "output_type": "stream",
          "text": [
            "/usr/local/lib/python3.6/dist-packages/sklearn/preprocessing/_encoders.py:415: FutureWarning: The handling of integer data will change in version 0.22. Currently, the categories are determined based on the range [0, max(values)], while in the future they will be determined based on the unique values.\n",
            "If you want the future behaviour and silence this warning, you can specify \"categories='auto'\".\n",
            "In case you used a LabelEncoder before this OneHotEncoder to convert the categories to integers, then you can now use the OneHotEncoder directly.\n",
            "  warnings.warn(msg, FutureWarning)\n",
            "/usr/local/lib/python3.6/dist-packages/sklearn/preprocessing/_encoders.py:451: DeprecationWarning: The 'categorical_features' keyword is deprecated in version 0.20 and will be removed in 0.22. You can use the ColumnTransformer instead.\n",
            "  \"use the ColumnTransformer instead.\", DeprecationWarning)\n",
            "/usr/local/lib/python3.6/dist-packages/sklearn/preprocessing/_encoders.py:415: FutureWarning: The handling of integer data will change in version 0.22. Currently, the categories are determined based on the range [0, max(values)], while in the future they will be determined based on the unique values.\n",
            "If you want the future behaviour and silence this warning, you can specify \"categories='auto'\".\n",
            "In case you used a LabelEncoder before this OneHotEncoder to convert the categories to integers, then you can now use the OneHotEncoder directly.\n",
            "  warnings.warn(msg, FutureWarning)\n",
            "/usr/local/lib/python3.6/dist-packages/sklearn/preprocessing/_encoders.py:451: DeprecationWarning: The 'categorical_features' keyword is deprecated in version 0.20 and will be removed in 0.22. You can use the ColumnTransformer instead.\n",
            "  \"use the ColumnTransformer instead.\", DeprecationWarning)\n",
            "/usr/local/lib/python3.6/dist-packages/sklearn/preprocessing/_encoders.py:415: FutureWarning: The handling of integer data will change in version 0.22. Currently, the categories are determined based on the range [0, max(values)], while in the future they will be determined based on the unique values.\n",
            "If you want the future behaviour and silence this warning, you can specify \"categories='auto'\".\n",
            "In case you used a LabelEncoder before this OneHotEncoder to convert the categories to integers, then you can now use the OneHotEncoder directly.\n",
            "  warnings.warn(msg, FutureWarning)\n",
            "/usr/local/lib/python3.6/dist-packages/sklearn/preprocessing/_encoders.py:451: DeprecationWarning: The 'categorical_features' keyword is deprecated in version 0.20 and will be removed in 0.22. You can use the ColumnTransformer instead.\n",
            "  \"use the ColumnTransformer instead.\", DeprecationWarning)\n"
          ],
          "name": "stderr"
        }
      ]
    },
    {
      "cell_type": "code",
      "metadata": {
        "id": "yFTnQszWrQOK",
        "colab_type": "code",
        "colab": {}
      },
      "source": [
        "Data=pd.DataFrame(combiend)"
      ],
      "execution_count": 0,
      "outputs": []
    },
    {
      "cell_type": "code",
      "metadata": {
        "id": "PeV8mBEorTUa",
        "colab_type": "code",
        "colab": {}
      },
      "source": [
        "X_train=Data.iloc[0:107833,0:].values\n",
        "X_test=Data.iloc[107833:,0:].values"
      ],
      "execution_count": 0,
      "outputs": []
    },
    {
      "cell_type": "code",
      "metadata": {
        "id": "f9USbaFGzB-9",
        "colab_type": "code",
        "colab": {}
      },
      "source": [
        "from sklearn.svm import SVR\n",
        "clf=SVR(kernel='rbf')\n",
        "# ****Train the classifier*********\n",
        "clf.fit(X_train,y)\n",
        "y_pred = clf.predict(X_test)"
      ],
      "execution_count": 0,
      "outputs": []
    },
    {
      "cell_type": "code",
      "metadata": {
        "id": "Jnv87anErXrW",
        "colab_type": "code",
        "colab": {}
      },
      "source": [
        "X_idTest=pd.DataFrame(X_idTest)\n",
        "X_idTest['target']=y_pred"
      ],
      "execution_count": 0,
      "outputs": []
    },
    {
      "cell_type": "code",
      "metadata": {
        "id": "ukeJIBq1rZ2W",
        "colab_type": "code",
        "colab": {}
      },
      "source": [
        "X_idTest.to_csv('sub9.csv',index=False)"
      ],
      "execution_count": 0,
      "outputs": []
    }
  ]
}